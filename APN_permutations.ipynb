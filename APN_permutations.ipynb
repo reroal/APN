p = 2
n = 6
print(p^n)
Fp = GF(p)
F.<w> = FiniteField(p^n);
C = CyclotomicField(p);
Comp = ComplexField()

def trace(x):
    sum = 0
    for i in range(n):
        sum += x^(p^(i))
    return sum

a = 1/w^2
ex = 1
def f(x):
    #return x^5
    return x^(2^n-2)
    #return x^(p^(4*ex)+p^(3*ex)+p^(2*ex)+p^(ex)-1) #(Dobbertin)
    #return x^(p^n-p-1)
    #return x^(p^n-p-1) APN Perm p=5 n=3
    #return a^59*x^60+a^34*x^58+a^8*x^57+a^23*x^56+a^21*x^54+a^39*x^53+a^48*x^52+a^48*x^51+a^56*x^50+a^24*x^49+a^44*x^48+a^26*x^46+a^2*x^45+a^13*x^44+a^54*x^43+a^45*x^42+a^32*x^41+a^41*x^40+a^48*x^39+a^45*x^38+a^32*x^37+a^14*x^36+a^57*x^35+a^50*x^34+x^33+a^5*x^32+a^31*x^30+a^45*x^29+a^51*x^28+a^32*x^27+a^30*x^26+a^8*x^25+a^33*x^24+a^39*x^23+a^36*x^22+a^4*x^21+a^38*x^20+a^52*x^19+a^17*x^18+a^15*x^17+a^31*x^16+a^42*x^15+a^5*x^14+a^25*x^13+a^9*x^12+a^3*x^11+a*x^10+a^30*x^9+a^22*x^8+a^23*x^7+a^54*x^6+a^46*x^5+a^60*x^4+a^29*x^3+a^20*x^2+a^61*x

#x^3+x^10+a*x^24

#def f(x):
#   iteration = 64
#    res = fun(x)
#    for i in range(iteration-1):
#        res = fun(res)
#    return res

def tt(g):
    res = []
    for i in F:
        res.append(g(i))
    return res
#tt(f)

def is_permutation():
    list = []
    for x in F:
        if f(x) not in Set(list):
            list.append(f(x))
        else: break
    if len(list) == p^n:
        return 1
    return 0
def der(x,a):
    return f(x+a)-f(x)
fieldin = [ i for i in F]
diffuni= 0
for i in F:
    unif = [0 for i in F]
    if i != 0:
        for x in F:
            unif[ fieldin.index(der(x,i))]+=1
        if max(unif)>diffuni:
            diffuni= max(unif)
diffuni
